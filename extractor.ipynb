{
 "cells": [
  {
   "cell_type": "code",
   "execution_count": 1,
   "metadata": {},
   "outputs": [
    {
     "data": {
      "text/plain": [
       "['extractor.ipynb',\n",
       " 'Image 1.jpeg',\n",
       " 'Image 2.jpeg',\n",
       " 'Image 3.jpeg',\n",
       " 'Image 4.jpeg']"
      ]
     },
     "execution_count": 1,
     "metadata": {},
     "output_type": "execute_result"
    }
   ],
   "source": [
    "import os\n",
    "os.listdir()\n"
   ]
  },
  {
   "cell_type": "markdown",
   "metadata": {},
   "source": []
  },
  {
   "cell_type": "code",
   "execution_count": 1,
   "metadata": {},
   "outputs": [
    {
     "name": "stdout",
     "output_type": "stream",
     "text": [
      ". 4G+ | 5 (@) Ye a\n",
      "21:47 all 4 al es\n",
      "TO Coarse rear ver ‘Would moet be conceried about tor Ga v\n",
      "= Instructions: Using the data collected variable.\n",
      "from Homework #3, analyze the\n",
      "descriptive statisties for each variable. ‘Lastly, choose ¢hrve variables—one for\n",
      "wich yon ued te mere wich\n",
      "First, find the range for age, siblings, and you used the median, and one for which\n",
      "Si (nsimun ale nin ita You edhe mada ne he\n",
      "value) in the yellow cells in the row labeled value actually means. Type this in sentence\n",
      "Range. form, For example, “Che average\n",
      "parpnt ny ompl was 22.6 yars\n",
      "Next. inde the appropri mere of Gisndting hve lang\n",
      "central tendency for each variable sample.” or “The modal category for race\n",
      "C**recall thei level of measurement, you was African Americans, meaning that there\n",
      "icing acer e uaabal fe\") Tees Ar reser yo\n",
      "ad heeding he than ois ae\n",
      "=AVERAGE(), =MEDIAN(), and =MODEQ)\n",
      "Frclee Popes fy Youre tlh al tenon ia\n",
      "went Wie renee, arti ie asgnmer but soe you each ealeed\n",
      "mata or woul the os foot oen cr yur canted ar\n",
      "appropriate. Only give me the one that 1 will look different. Once completed, upload\n",
      "ould mot rence sat ore the Eur dunt bole Reset\n",
      "vw ream he Slew that races yur\n",
      "bane dorcanpl Joes\n",
      "Lastly cose de varibes-one for fesse\n",
      "vaio asd mea ene och\n",
      "you used the median, and one for which Social Statisties : HSSC-y92-71-DO-OL-FA-2024\n",
      "yowvsed themed ew he *\n",
      "value actually means. ‘ype this in sentence ee haccraead\n",
      "inn, or xl “Theverge\n",
      "participant in my sample was 22.67 years Tepper ecient eats\n",
      "old, indicating 1 have a fairly young, t\n",
      "Simple oF The modal etary rae ;\n",
      "was African Americans, meaning that there aA @ online.claflinedu ©\n",
      "This is the work. Also it's due tonight, so would you be able\n",
      "to complete it by tonight if you are able to do the work? jos!\n",
      "21:29 yr | (N\n",
      "\n"
     ]
    }
   ],
   "source": [
    "# !pip install PIL\n",
    "from PIL import Image, ImageEnhance\n",
    "import pytesseract\n",
    "\n",
    "# Set the path to the Tesseract executable\n",
    "pytesseract.pytesseract.tesseract_cmd = r\"C:\\Program Files\\Tesseract-OCR\\tesseract.exe\"\n",
    "\n",
    "# Load the JPEG image\n",
    "image_path = \"Image 5.jpeg\"  # Replace with your actual image file path\n",
    "img = Image.open(image_path)\n",
    "\n",
    "# Convert to grayscale\n",
    "img = img.convert('L')\n",
    "\n",
    "# Increase contrast\n",
    "enhancer = ImageEnhance.Contrast(img)\n",
    "img = enhancer.enhance(2)\n",
    "\n",
    "# Resize image\n",
    "base_width = 1200\n",
    "width_percent = (base_width / float(img.size[0]))\n",
    "height_size = int((float(img.size[1]) * float(width_percent)))\n",
    "img = img.resize((base_width, height_size), Image.Resampling.LANCZOS)\n",
    "\n",
    "# Perform OCR with Tesseract configuration\n",
    "custom_config = r'--oem 3 --psm 6'\n",
    "text = pytesseract.image_to_string(img, config=custom_config)\n",
    "\n",
    "# Print the extracted text\n",
    "print(text)\n"
   ]
  },
  {
   "cell_type": "code",
   "execution_count": 39,
   "metadata": {},
   "outputs": [
    {
     "name": "stdout",
     "output_type": "stream",
     "text": [
      "Data saved to output.csv\n"
     ]
    }
   ],
   "source": [
    "# Split the text into rows and columns\n",
    "rows = text.split('\\n')\n",
    "data = [row.split() for row in rows if row.strip()]  # Split by spaces and ignore empty rows\n",
    "\n",
    "# Create a DataFrame\n",
    "df = pd.DataFrame(data)\n",
    "\n",
    "# Optionally set column headers (if known)\n",
    "# df.columns = ['Column1', 'Column2', 'Column3']\n",
    "\n",
    "# Save DataFrame to CSV\n",
    "csv_path = \"output.csv\"\n",
    "df.to_csv(csv_path, index=False, header=False)  # Adjust header=True if you have headers\n",
    "\n",
    "print(f\"Data saved to {csv_path}\")\n",
    "\n",
    "\n",
    "\n",
    "\n"
   ]
  }
 ],
 "metadata": {
  "kernelspec": {
   "display_name": "base",
   "language": "python",
   "name": "python3"
  },
  "language_info": {
   "codemirror_mode": {
    "name": "ipython",
    "version": 3
   },
   "file_extension": ".py",
   "mimetype": "text/x-python",
   "name": "python",
   "nbconvert_exporter": "python",
   "pygments_lexer": "ipython3",
   "version": "3.12.5"
  }
 },
 "nbformat": 4,
 "nbformat_minor": 2
}
