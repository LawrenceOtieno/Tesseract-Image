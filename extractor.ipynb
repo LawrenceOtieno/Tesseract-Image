{
 "cells": [
  {
   "cell_type": "code",
   "execution_count": 1,
   "metadata": {},
   "outputs": [
    {
     "data": {
      "text/plain": [
       "['extractor.ipynb',\n",
       " 'Image 1.jpeg',\n",
       " 'Image 2.jpeg',\n",
       " 'Image 3.jpeg',\n",
       " 'Image 4.jpeg']"
      ]
     },
     "execution_count": 1,
     "metadata": {},
     "output_type": "execute_result"
    }
   ],
   "source": [
    "import os\n",
    "os.listdir()\n"
   ]
  },
  {
   "cell_type": "markdown",
   "metadata": {},
   "source": []
  },
  {
   "cell_type": "code",
   "execution_count": 1,
   "metadata": {},
   "outputs": [
    {
     "name": "stdout",
     "output_type": "stream",
     "text": [
      "FAITH RINGGOLD\n",
      "Artist Faith Ringgold is best known for her\n",
      "story quilts — a patchwork of lush, colorful,\n",
      "and daring images with a story written right\n",
      "onto the fabric.\n",
      "Look at the short video along with the\n",
      "research, and give me a six-paragraph about\n",
      "Faith Ringgold and her works. Be sure to\n",
      "show ten images of her work and describe\n",
      "each one.\n",
      "Faith-Ringgold's art of fearles... 13\n",
      "Y . : a ju \\o°O iam as mas\n",
      "J : ® te: ; Sl m = ;“ se AS ae\n",
      "ri ale oN WY | Mai\n",
      "ee i ee\n",
      "Sepa — i te aie aT.\n",
      "si SUNDAY\n",
      "ais MORNING 3 YouTube\n",
      "PREVIOUS SECTION\n",
      "< Should Art Push You? | Raise Up Curr\n",
      "Black Artists!\n",
      "@ online.claflin.edu\n",
      "ee\n",
      "\n"
     ]
    }
   ],
   "source": [
    "# !pip install PIL\n",
    "from PIL import Image, ImageEnhance\n",
    "import pytesseract\n",
    "\n",
    "# Set the path to the Tesseract executable\n",
    "pytesseract.pytesseract.tesseract_cmd = r\"C:\\Program Files\\Tesseract-OCR\\tesseract.exe\"\n",
    "\n",
    "# Load the JPEG image\n",
    "image_path = \"Image 15.jpeg\"  # Replace with your actual image file path\n",
    "img = Image.open(image_path)\n",
    "\n",
    "# Convert to grayscale\n",
    "img = img.convert('L')\n",
    "\n",
    "# Increase contrast\n",
    "enhancer = ImageEnhance.Contrast(img)\n",
    "img = enhancer.enhance(2)\n",
    "\n",
    "# Resize image\n",
    "base_width = 1200\n",
    "width_percent = (base_width / float(img.size[0]))\n",
    "height_size = int((float(img.size[1]) * float(width_percent)))\n",
    "img = img.resize((base_width, height_size), Image.Resampling.LANCZOS)\n",
    "\n",
    "# Perform OCR with Tesseract configuration\n",
    "custom_config = r'--oem 3 --psm 6'\n",
    "text = pytesseract.image_to_string(img, config=custom_config)\n",
    "\n",
    "# Print the extracted text\n",
    "print(text)\n"
   ]
  },
  {
   "cell_type": "code",
   "execution_count": 39,
   "metadata": {},
   "outputs": [
    {
     "name": "stdout",
     "output_type": "stream",
     "text": [
      "Data saved to output.csv\n"
     ]
    }
   ],
   "source": [
    "# Split the text into rows and columns\n",
    "rows = text.split('\\n')\n",
    "data = [row.split() for row in rows if row.strip()]  # Split by spaces and ignore empty rows\n",
    "\n",
    "# Create a DataFrame\n",
    "df = pd.DataFrame(data)\n",
    "\n",
    "# Optionally set column headers (if known)\n",
    "# df.columns = ['Column1', 'Column2', 'Column3']\n",
    "\n",
    "# Save DataFrame to CSV\n",
    "csv_path = \"output.csv\"\n",
    "df.to_csv(csv_path, index=False, header=False)  # Adjust header=True if you have headers\n",
    "\n",
    "print(f\"Data saved to {csv_path}\")\n",
    "\n",
    "\n",
    "\n",
    "\n"
   ]
  }
 ],
 "metadata": {
  "kernelspec": {
   "display_name": "Python 3",
   "language": "python",
   "name": "python3"
  },
  "language_info": {
   "codemirror_mode": {
    "name": "ipython",
    "version": 3
   },
   "file_extension": ".py",
   "mimetype": "text/x-python",
   "name": "python",
   "nbconvert_exporter": "python",
   "pygments_lexer": "ipython3",
   "version": "3.12.5"
  }
 },
 "nbformat": 4,
 "nbformat_minor": 2
}
