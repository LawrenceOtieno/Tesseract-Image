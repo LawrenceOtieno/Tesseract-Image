{
 "cells": [
  {
   "cell_type": "code",
   "execution_count": 1,
   "metadata": {},
   "outputs": [
    {
     "data": {
      "text/plain": [
       "['extractor.ipynb',\n",
       " 'Image 1.jpeg',\n",
       " 'Image 2.jpeg',\n",
       " 'Image 3.jpeg',\n",
       " 'Image 4.jpeg']"
      ]
     },
     "execution_count": 1,
     "metadata": {},
     "output_type": "execute_result"
    }
   ],
   "source": [
    "import os\n",
    "os.listdir()\n"
   ]
  },
  {
   "cell_type": "markdown",
   "metadata": {},
   "source": []
  },
  {
   "cell_type": "code",
   "execution_count": 10,
   "metadata": {},
   "outputs": [
    {
     "name": "stdout",
     "output_type": "stream",
     "text": [
      "1:06 all 5G\n",
      "< Assignment Details\n",
      "COMM-3330-M50 Applied Comm Research Methods Fall Term 20...\n",
      "communication issue!\n",
      "\n",
      "e Make an argument about why your research\n",
      "will add something new or interesting.\n",
      "Consider WHY this topic deserves further\n",
      "attention or what is missing from the\n",
      "conversation.\n",
      "\n",
      "3. Ethics discussion (0.5 - 1 pg)\n",
      "\n",
      "e Based on what we learned in Chapter 3 of the\n",
      "textbook, discuss what ethical issues might\n",
      "be involved. What is your relationship to the\n",
      "people you want to study? Are any of them\n",
      "from a vulnerable or protected population\n",
      "(like children or people with disabilities)?\n",
      "What will you do to ensure confidentiality\n",
      "and protect your participants in the process?\n",
      "Will you be sharing your results with\n",
      "participants? If so, how will you do that ina\n",
      "way that is ethical?\n",
      "\n",
      "e You do NOT have to submit an IRB report for\n",
      "this project because it is for a class and will\n",
      "not be presented elsewhere. However, you\n",
      "still need to take proper precautions and\n",
      "make sure you engage with this topic in an\n",
      "ethical way. This includes acknowledging that\n",
      "you cannot generalize your results to an\n",
      "entire population and you will use\n",
      "pseudonyms (fake names) for any\n",
      "participants.\n",
      "\n",
      "REQUIREMENTS\n",
      "<« Previous Next >\n",
      "a ial —\n",
      "Dashboard Calendar To Do Notifications Inbox\n",
      "ea\n",
      "\n"
     ]
    }
   ],
   "source": [
    "# !pip install PIL\n",
    "from PIL import Image, ImageEnhance\n",
    "import pytesseract\n",
    "\n",
    "# Set the path to the Tesseract executable\n",
    "pytesseract.pytesseract.tesseract_cmd = r\"C:\\Program Files\\Tesseract-OCR\\tesseract.exe\"\n",
    "\n",
    "# Load the JPEG image\n",
    "image_path = \"Image 4.jpeg\"  # Replace with your actual image file path\n",
    "img = Image.open(image_path)\n",
    "\n",
    "# Convert to grayscale\n",
    "img = img.convert('L')\n",
    "\n",
    "# Increase contrast\n",
    "enhancer = ImageEnhance.Contrast(img)\n",
    "img = enhancer.enhance(2)\n",
    "\n",
    "# Resize image\n",
    "base_width = 1200\n",
    "width_percent = (base_width / float(img.size[0]))\n",
    "height_size = int((float(img.size[1]) * float(width_percent)))\n",
    "img = img.resize((base_width, height_size), Image.Resampling.LANCZOS)\n",
    "\n",
    "# Perform OCR with Tesseract configuration\n",
    "custom_config = r'--oem 3 --psm 6'\n",
    "text = pytesseract.image_to_string(img, config=custom_config)\n",
    "\n",
    "# Print the extracted text\n",
    "print(text)\n"
   ]
  },
  {
   "cell_type": "code",
   "execution_count": 39,
   "metadata": {},
   "outputs": [
    {
     "name": "stdout",
     "output_type": "stream",
     "text": [
      "Data saved to output.csv\n"
     ]
    }
   ],
   "source": [
    "# Split the text into rows and columns\n",
    "rows = text.split('\\n')\n",
    "data = [row.split() for row in rows if row.strip()]  # Split by spaces and ignore empty rows\n",
    "\n",
    "# Create a DataFrame\n",
    "df = pd.DataFrame(data)\n",
    "\n",
    "# Optionally set column headers (if known)\n",
    "# df.columns = ['Column1', 'Column2', 'Column3']\n",
    "\n",
    "# Save DataFrame to CSV\n",
    "csv_path = \"output.csv\"\n",
    "df.to_csv(csv_path, index=False, header=False)  # Adjust header=True if you have headers\n",
    "\n",
    "print(f\"Data saved to {csv_path}\")\n",
    "\n",
    "\n",
    "\n",
    "\n"
   ]
  }
 ],
 "metadata": {
  "kernelspec": {
   "display_name": "base",
   "language": "python",
   "name": "python3"
  },
  "language_info": {
   "codemirror_mode": {
    "name": "ipython",
    "version": 3
   },
   "file_extension": ".py",
   "mimetype": "text/x-python",
   "name": "python",
   "nbconvert_exporter": "python",
   "pygments_lexer": "ipython3",
   "version": "3.12.5"
  }
 },
 "nbformat": 4,
 "nbformat_minor": 2
}
