{
 "cells": [
  {
   "cell_type": "code",
   "execution_count": 1,
   "metadata": {},
   "outputs": [
    {
     "data": {
      "text/plain": [
       "['extractor.ipynb',\n",
       " 'Image 1.jpeg',\n",
       " 'Image 2.jpeg',\n",
       " 'Image 3.jpeg',\n",
       " 'Image 4.jpeg']"
      ]
     },
     "execution_count": 1,
     "metadata": {},
     "output_type": "execute_result"
    }
   ],
   "source": [
    "import os\n",
    "os.listdir()\n"
   ]
  },
  {
   "cell_type": "markdown",
   "metadata": {},
   "source": []
  },
  {
   "cell_type": "code",
   "execution_count": 1,
   "metadata": {},
   "outputs": [
    {
     "name": "stdout",
     "output_type": "stream",
     "text": [
      "< Essay 2 - Applying Past to Present .docx (4\n",
      "- Discrimination, segregation, and disfranchisement\n",
      "¢ Forced migration/dislocation\n",
      "Resistance to oppression\n",
      "¢ individual and collective resistance\n",
      "¢ institution-building\n",
      "¢ civil rights / Black power organizations and movement\n",
      "building\n",
      "Gender and Sexuality\n",
      "* women’s rights and gender equality\n",
      "¢ Black masculinity\n",
      "¢ Black non-traditional, non-conforming, queer, or non-binary\n",
      "voices and struggles\n",
      "Part Il: Bibliography: You must create a short bibliography of\n",
      "the sources used or works cited\n",
      "Criteria for Evaluation:\n",
      "|. Has a clear overarching argument, thesis, or message that\n",
      "makes a claim about the relation of past to present.\n",
      "(20 points)\n",
      "2. Analysis and usc of sources: (40 points)\n",
      "-Is independent and original. Offers your unique,\n",
      "innovative intcrprctation of the past\n",
      "+ Supports the overarching messagc(i.c., specific excerpts,\n",
      "quotes, or details from the sources)\n",
      "- Offers quotes trom all four sources and explains their\n",
      "significance\n",
      "3. Organization: (15 points)\n",
      "- Has an intro/beginning, a middle or body section, and a\n",
      "strong ending/conclusion\n",
      "+ Uses smooth transitions between points\n",
      "«Clearly links arguments, evidence, and analysis\n",
      "4. Readability: (10 points)\n",
      "+ Uses correct grammar, spelling, punctuation, and citation\n",
      "+ Independent: Could be understood by someone unfamiliar\n",
      "with the source\n",
      "5. Creativity (15 points)\n",
      "+ Offers a creative format or synthesis of information\n",
      "presented\n",
      "- Writing product is original and/or thought-provoking\n",
      "oy 5\n",
      "aQ A 8\n",
      "Dashboard Calendar To Do Notifications Inbox\n",
      "ee\n",
      "\n"
     ]
    }
   ],
   "source": [
    "# !pip install PIL\n",
    "from PIL import Image, ImageEnhance\n",
    "import pytesseract\n",
    "\n",
    "# Set the path to the Tesseract executable\n",
    "pytesseract.pytesseract.tesseract_cmd = r\"C:\\Program Files\\Tesseract-OCR\\tesseract.exe\"\n",
    "\n",
    "# Load the JPEG image\n",
    "image_path = \"Image 9.jpeg\"  # Replace with your actual image file path\n",
    "img = Image.open(image_path)\n",
    "\n",
    "# Convert to grayscale\n",
    "img = img.convert('L')\n",
    "\n",
    "# Increase contrast\n",
    "enhancer = ImageEnhance.Contrast(img)\n",
    "img = enhancer.enhance(2)\n",
    "\n",
    "# Resize image\n",
    "base_width = 1200\n",
    "width_percent = (base_width / float(img.size[0]))\n",
    "height_size = int((float(img.size[1]) * float(width_percent)))\n",
    "img = img.resize((base_width, height_size), Image.Resampling.LANCZOS)\n",
    "\n",
    "# Perform OCR with Tesseract configuration\n",
    "custom_config = r'--oem 3 --psm 6'\n",
    "text = pytesseract.image_to_string(img, config=custom_config)\n",
    "\n",
    "# Print the extracted text\n",
    "print(text)\n"
   ]
  },
  {
   "cell_type": "code",
   "execution_count": 39,
   "metadata": {},
   "outputs": [
    {
     "name": "stdout",
     "output_type": "stream",
     "text": [
      "Data saved to output.csv\n"
     ]
    }
   ],
   "source": [
    "# Split the text into rows and columns\n",
    "rows = text.split('\\n')\n",
    "data = [row.split() for row in rows if row.strip()]  # Split by spaces and ignore empty rows\n",
    "\n",
    "# Create a DataFrame\n",
    "df = pd.DataFrame(data)\n",
    "\n",
    "# Optionally set column headers (if known)\n",
    "# df.columns = ['Column1', 'Column2', 'Column3']\n",
    "\n",
    "# Save DataFrame to CSV\n",
    "csv_path = \"output.csv\"\n",
    "df.to_csv(csv_path, index=False, header=False)  # Adjust header=True if you have headers\n",
    "\n",
    "print(f\"Data saved to {csv_path}\")\n",
    "\n",
    "\n",
    "\n",
    "\n"
   ]
  }
 ],
 "metadata": {
  "kernelspec": {
   "display_name": "Python 3",
   "language": "python",
   "name": "python3"
  },
  "language_info": {
   "codemirror_mode": {
    "name": "ipython",
    "version": 3
   },
   "file_extension": ".py",
   "mimetype": "text/x-python",
   "name": "python",
   "nbconvert_exporter": "python",
   "pygments_lexer": "ipython3",
   "version": "3.12.5"
  }
 },
 "nbformat": 4,
 "nbformat_minor": 2
}
