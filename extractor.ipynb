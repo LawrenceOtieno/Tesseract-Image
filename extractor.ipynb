{
 "cells": [
  {
   "cell_type": "code",
   "execution_count": 1,
   "metadata": {},
   "outputs": [
    {
     "data": {
      "text/plain": [
       "['extractor.ipynb',\n",
       " 'Image 1.jpeg',\n",
       " 'Image 2.jpeg',\n",
       " 'Image 3.jpeg',\n",
       " 'Image 4.jpeg']"
      ]
     },
     "execution_count": 1,
     "metadata": {},
     "output_type": "execute_result"
    }
   ],
   "source": [
    "import os\n",
    "os.listdir()\n"
   ]
  },
  {
   "cell_type": "markdown",
   "metadata": {},
   "source": []
  },
  {
   "cell_type": "code",
   "execution_count": 1,
   "metadata": {},
   "outputs": [
    {
     "name": "stdout",
     "output_type": "stream",
     "text": [
      "Due: Nov 1\n",
      "\n",
      "Problem 1\n",
      "Let ¢: C + H be a group homomorphism and BE < H a subgroup. Prove that $7'(H) is a\n",
      "subgroup of C. Prove that if E 2H then g-\"(E) 2 C.\n",
      "Problem 2\n",
      "Prove that if N 2C and H < C's any subgroup then NOH 2H.\n",
      "Problem 3\n",
      "Let N 20, kt x: 4 C/N be the quotient map, and let HW < C be any subgroup. Prove that\n",
      "x(H) = a subgroup in C/N isomeephic to H/(H N). (Use the isomorphism theorem).\n",
      "Problem 4\n",
      "Consider the additive quotient group Q/Z.\n",
      "\n",
      "1. Show that every cout of Z in Q contains exactly one representative gq < Q in the range\n",
      "\n",
      "Ofqel.\n",
      "2 Show that every clement of Q/Z has finite order but that there are ckments of arbitrarily\n",
      "lange order.\n",
      "\n",
      "3. By the previous problem, Q/Z is a subgroup in R/Z. Prove that Q/Z — (z < R/Z, s.t. [x| is finite}.\n",
      "Problem 5\n",
      "Prove that the center of C is 2 normal subgroup in C.\n",
      "Problem 6\n",
      "Prove that if H and K are finite szhgroups of C whose orders are relatively prime then HNK = {1}.\n",
      "Problem 7\n",
      "Let [C] = p be a prime number. Show that C is cyclic.\n",
      "Problem 8\n",
      "Let H <= Cand ke g ¢ C. Prove that if the right cost Hg oquals some ict cont of H in C then\n",
      "it equals the Ieft coset gM and g must be in Na(H).\n",
      "\n"
     ]
    }
   ],
   "source": [
    "# !pip install PIL\n",
    "from PIL import Image, ImageEnhance\n",
    "import pytesseract\n",
    "\n",
    "# Set the path to the Tesseract executable\n",
    "pytesseract.pytesseract.tesseract_cmd = r\"C:\\Program Files\\Tesseract-OCR\\tesseract.exe\"\n",
    "\n",
    "# Load the JPEG image\n",
    "image_path = \"Image 8.jpeg\"  # Replace with your actual image file path\n",
    "img = Image.open(image_path)\n",
    "\n",
    "# Convert to grayscale\n",
    "img = img.convert('L')\n",
    "\n",
    "# Increase contrast\n",
    "enhancer = ImageEnhance.Contrast(img)\n",
    "img = enhancer.enhance(2)\n",
    "\n",
    "# Resize image\n",
    "base_width = 1200\n",
    "width_percent = (base_width / float(img.size[0]))\n",
    "height_size = int((float(img.size[1]) * float(width_percent)))\n",
    "img = img.resize((base_width, height_size), Image.Resampling.LANCZOS)\n",
    "\n",
    "# Perform OCR with Tesseract configuration\n",
    "custom_config = r'--oem 3 --psm 6'\n",
    "text = pytesseract.image_to_string(img, config=custom_config)\n",
    "\n",
    "# Print the extracted text\n",
    "print(text)\n"
   ]
  },
  {
   "cell_type": "code",
   "execution_count": 39,
   "metadata": {},
   "outputs": [
    {
     "name": "stdout",
     "output_type": "stream",
     "text": [
      "Data saved to output.csv\n"
     ]
    }
   ],
   "source": [
    "# Split the text into rows and columns\n",
    "rows = text.split('\\n')\n",
    "data = [row.split() for row in rows if row.strip()]  # Split by spaces and ignore empty rows\n",
    "\n",
    "# Create a DataFrame\n",
    "df = pd.DataFrame(data)\n",
    "\n",
    "# Optionally set column headers (if known)\n",
    "# df.columns = ['Column1', 'Column2', 'Column3']\n",
    "\n",
    "# Save DataFrame to CSV\n",
    "csv_path = \"output.csv\"\n",
    "df.to_csv(csv_path, index=False, header=False)  # Adjust header=True if you have headers\n",
    "\n",
    "print(f\"Data saved to {csv_path}\")\n",
    "\n",
    "\n",
    "\n",
    "\n"
   ]
  }
 ],
 "metadata": {
  "kernelspec": {
   "display_name": "Python 3",
   "language": "python",
   "name": "python3"
  },
  "language_info": {
   "codemirror_mode": {
    "name": "ipython",
    "version": 3
   },
   "file_extension": ".py",
   "mimetype": "text/x-python",
   "name": "python",
   "nbconvert_exporter": "python",
   "pygments_lexer": "ipython3",
   "version": "3.12.5"
  }
 },
 "nbformat": 4,
 "nbformat_minor": 2
}
