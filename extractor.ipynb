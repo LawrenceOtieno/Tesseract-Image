{
 "cells": [
  {
   "cell_type": "code",
   "execution_count": 1,
   "metadata": {},
   "outputs": [
    {
     "data": {
      "text/plain": [
       "['extractor.ipynb',\n",
       " 'Image 1.jpeg',\n",
       " 'Image 2.jpeg',\n",
       " 'Image 3.jpeg',\n",
       " 'Image 4.jpeg']"
      ]
     },
     "execution_count": 1,
     "metadata": {},
     "output_type": "execute_result"
    }
   ],
   "source": [
    "import os\n",
    "os.listdir()\n"
   ]
  },
  {
   "cell_type": "markdown",
   "metadata": {},
   "source": []
  },
  {
   "cell_type": "code",
   "execution_count": 2,
   "metadata": {},
   "outputs": [
    {
     "name": "stdout",
     "output_type": "stream",
     "text": [
      "1:53 oth 5G+ CD:\n",
      "< Assignment Details\n",
      "COMM-3330-M50 Applied Comm Research Methods Fall Term 20...\n",
      "There are three main parts to this assignment:\n",
      "1. Introduction (0.5 - 1 pg)\n",
      "\n",
      "e Introduce your research topic and how it\n",
      "relates to communication. (| know you did\n",
      "this in Part 1, but it is useful for you to be able\n",
      "to summarize this in one paragraph).\n",
      "\n",
      "e Include 1-2 research questions. (These can be\n",
      "the same ones you wrote for Part 1 or new\n",
      "ones based on the feedback I gave you.)\n",
      "\n",
      "e Briefly explain the main goal of your survey\n",
      "and how it can potentially answer your\n",
      "research questions.\n",
      "\n",
      "2. Survey (1-2 pages + survey appendix at the end of\n",
      "the paper)\n",
      "\n",
      "e Decide on the type of questions you want to\n",
      "use in your survey. Will there be Likert-style\n",
      "scale questions? Demographic information?\n",
      "Multiple choice questions? Short answer\n",
      "responses? You can use a mix of these, just\n",
      "make sure you think about what information\n",
      "is most important to collect.\n",
      "\n",
      "e Talk about how you came up with the\n",
      "questions (did you base it on any of the\n",
      "scholarly literature you read for Part 1? Why\n",
      "did you choose to ask the questions you did?).\n",
      "Reference Chapter 9 in your answer about\n",
      "how you designed the questions, especially in\n",
      "regard to the wording choices you made.\n",
      "\n",
      "e Write 10-20 questions and include them as\n",
      "an appendix to your paper.\n",
      "\n",
      "< Previous Next >\n",
      "a fe Aa 2B\n",
      "Dashboard Calendar To Do Notifications Inbox\n",
      "ee\n",
      "\n"
     ]
    }
   ],
   "source": [
    "# !pip install PIL\n",
    "from PIL import Image, ImageEnhance\n",
    "import pytesseract\n",
    "\n",
    "# Set the path to the Tesseract executable\n",
    "pytesseract.pytesseract.tesseract_cmd = r\"C:\\Program Files\\Tesseract-OCR\\tesseract.exe\"\n",
    "\n",
    "# Load the JPEG image\n",
    "image_path = \"Image 10.jpeg\"  # Replace with your actual image file path\n",
    "img = Image.open(image_path)\n",
    "\n",
    "# Convert to grayscale\n",
    "img = img.convert('L')\n",
    "\n",
    "# Increase contrast\n",
    "enhancer = ImageEnhance.Contrast(img)\n",
    "img = enhancer.enhance(2)\n",
    "\n",
    "# Resize image\n",
    "base_width = 1200\n",
    "width_percent = (base_width / float(img.size[0]))\n",
    "height_size = int((float(img.size[1]) * float(width_percent)))\n",
    "img = img.resize((base_width, height_size), Image.Resampling.LANCZOS)\n",
    "\n",
    "# Perform OCR with Tesseract configuration\n",
    "custom_config = r'--oem 3 --psm 6'\n",
    "text = pytesseract.image_to_string(img, config=custom_config)\n",
    "\n",
    "# Print the extracted text\n",
    "print(text)\n"
   ]
  },
  {
   "cell_type": "code",
   "execution_count": 39,
   "metadata": {},
   "outputs": [
    {
     "name": "stdout",
     "output_type": "stream",
     "text": [
      "Data saved to output.csv\n"
     ]
    }
   ],
   "source": [
    "# Split the text into rows and columns\n",
    "rows = text.split('\\n')\n",
    "data = [row.split() for row in rows if row.strip()]  # Split by spaces and ignore empty rows\n",
    "\n",
    "# Create a DataFrame\n",
    "df = pd.DataFrame(data)\n",
    "\n",
    "# Optionally set column headers (if known)\n",
    "# df.columns = ['Column1', 'Column2', 'Column3']\n",
    "\n",
    "# Save DataFrame to CSV\n",
    "csv_path = \"output.csv\"\n",
    "df.to_csv(csv_path, index=False, header=False)  # Adjust header=True if you have headers\n",
    "\n",
    "print(f\"Data saved to {csv_path}\")\n",
    "\n",
    "\n",
    "\n",
    "\n"
   ]
  }
 ],
 "metadata": {
  "kernelspec": {
   "display_name": "Python 3",
   "language": "python",
   "name": "python3"
  },
  "language_info": {
   "codemirror_mode": {
    "name": "ipython",
    "version": 3
   },
   "file_extension": ".py",
   "mimetype": "text/x-python",
   "name": "python",
   "nbconvert_exporter": "python",
   "pygments_lexer": "ipython3",
   "version": "3.12.5"
  }
 },
 "nbformat": 4,
 "nbformat_minor": 2
}
