{
 "cells": [
  {
   "cell_type": "code",
   "execution_count": 1,
   "metadata": {},
   "outputs": [
    {
     "data": {
      "text/plain": [
       "['extractor.ipynb',\n",
       " 'Image 1.jpeg',\n",
       " 'Image 2.jpeg',\n",
       " 'Image 3.jpeg',\n",
       " 'Image 4.jpeg']"
      ]
     },
     "execution_count": 1,
     "metadata": {},
     "output_type": "execute_result"
    }
   ],
   "source": [
    "import os\n",
    "os.listdir()\n"
   ]
  },
  {
   "cell_type": "markdown",
   "metadata": {},
   "source": []
  },
  {
   "cell_type": "code",
   "execution_count": 3,
   "metadata": {},
   "outputs": [
    {
     "name": "stdout",
     "output_type": "stream",
     "text": [
      "1:53 oot 5G+ CD:\n",
      "< Assignment Details\n",
      "COMM-3330-M50 Applied Comm Research Methods Fall Term 20...\n",
      "an appendix to your paper.\n",
      "3. Survey responses and discussion (2-3 pages)\n",
      "\n",
      "e Find FIVE people to take your survey. You can\n",
      "use Google Surveys, umSurvey / Qualtrics\n",
      "(the university has a free version you can\n",
      "access), Survey Monkey, or another online\n",
      "site to do this. You can also conduct the\n",
      "survey in person if you want, but you need to\n",
      "keep the data anonymous and don't identify\n",
      "who gave what answers.\n",
      "\n",
      "e Summarize some of the main findings. Was\n",
      "there a majority of similar answers on any\n",
      "question? Were there any answers that\n",
      "surprised you? Did this data give you any\n",
      "insight to your research question?\n",
      "\n",
      "e Youdo NOT need to do any statistical\n",
      "analysis on the data, but | do want you to\n",
      "consider how this survey could be expanded\n",
      "or used for statistical analysis. Consider\n",
      "questions such as:\n",
      "\n",
      "e Isthere any relevant correlation in the\n",
      "answers?\n",
      "\n",
      "e What numerical measurements did you\n",
      "use, if any?\n",
      "\n",
      "e Isthere any missing or anomalous data?\n",
      "\n",
      "e What could you generalize from these\n",
      "results if you had a larger sample size?\n",
      "\n",
      "e How would you change the survey if you\n",
      "were to run it again? Why would you make\n",
      "those changes?\n",
      "\n",
      "< Previous Next >\n",
      "a fr aA @\n",
      "Dashboard Calendar To Do Notifications Inbox\n",
      "ee\n",
      "\n"
     ]
    }
   ],
   "source": [
    "# !pip install PIL\n",
    "from PIL import Image, ImageEnhance\n",
    "import pytesseract\n",
    "\n",
    "# Set the path to the Tesseract executable\n",
    "pytesseract.pytesseract.tesseract_cmd = r\"C:\\Program Files\\Tesseract-OCR\\tesseract.exe\"\n",
    "\n",
    "# Load the JPEG image\n",
    "image_path = \"Image 11.jpeg\"  # Replace with your actual image file path\n",
    "img = Image.open(image_path)\n",
    "\n",
    "# Convert to grayscale\n",
    "img = img.convert('L')\n",
    "\n",
    "# Increase contrast\n",
    "enhancer = ImageEnhance.Contrast(img)\n",
    "img = enhancer.enhance(2)\n",
    "\n",
    "# Resize image\n",
    "base_width = 1200\n",
    "width_percent = (base_width / float(img.size[0]))\n",
    "height_size = int((float(img.size[1]) * float(width_percent)))\n",
    "img = img.resize((base_width, height_size), Image.Resampling.LANCZOS)\n",
    "\n",
    "# Perform OCR with Tesseract configuration\n",
    "custom_config = r'--oem 3 --psm 6'\n",
    "text = pytesseract.image_to_string(img, config=custom_config)\n",
    "\n",
    "# Print the extracted text\n",
    "print(text)\n"
   ]
  },
  {
   "cell_type": "code",
   "execution_count": 39,
   "metadata": {},
   "outputs": [
    {
     "name": "stdout",
     "output_type": "stream",
     "text": [
      "Data saved to output.csv\n"
     ]
    }
   ],
   "source": [
    "# Split the text into rows and columns\n",
    "rows = text.split('\\n')\n",
    "data = [row.split() for row in rows if row.strip()]  # Split by spaces and ignore empty rows\n",
    "\n",
    "# Create a DataFrame\n",
    "df = pd.DataFrame(data)\n",
    "\n",
    "# Optionally set column headers (if known)\n",
    "# df.columns = ['Column1', 'Column2', 'Column3']\n",
    "\n",
    "# Save DataFrame to CSV\n",
    "csv_path = \"output.csv\"\n",
    "df.to_csv(csv_path, index=False, header=False)  # Adjust header=True if you have headers\n",
    "\n",
    "print(f\"Data saved to {csv_path}\")\n",
    "\n",
    "\n",
    "\n",
    "\n"
   ]
  }
 ],
 "metadata": {
  "kernelspec": {
   "display_name": "Python 3",
   "language": "python",
   "name": "python3"
  },
  "language_info": {
   "codemirror_mode": {
    "name": "ipython",
    "version": 3
   },
   "file_extension": ".py",
   "mimetype": "text/x-python",
   "name": "python",
   "nbconvert_exporter": "python",
   "pygments_lexer": "ipython3",
   "version": "3.12.5"
  }
 },
 "nbformat": 4,
 "nbformat_minor": 2
}
