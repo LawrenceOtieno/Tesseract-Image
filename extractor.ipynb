{
 "cells": [
  {
   "cell_type": "code",
   "execution_count": 1,
   "metadata": {},
   "outputs": [
    {
     "data": {
      "text/plain": [
       "['extractor.ipynb',\n",
       " 'Image 1.jpeg',\n",
       " 'Image 2.jpeg',\n",
       " 'Image 3.jpeg',\n",
       " 'Image 4.jpeg']"
      ]
     },
     "execution_count": 1,
     "metadata": {},
     "output_type": "execute_result"
    }
   ],
   "source": [
    "import os\n",
    "os.listdir()\n"
   ]
  },
  {
   "cell_type": "markdown",
   "metadata": {},
   "source": []
  },
  {
   "cell_type": "code",
   "execution_count": 17,
   "metadata": {},
   "outputs": [
    {
     "name": "stdout",
     "output_type": "stream",
     "text": [
      "Practical Implications:\n",
      "¢ This correlation suggests that individuals who are highly anxious or distressed about the\n",
      "potential end of their relationship might engage in behaviors that compromise their own\n",
      "preferences or desires, often to maintain the relationship. This could indicate a high level\n",
      "of emotional dependency and a desire to avoid abandonment or rejection.\n",
      "\n",
      "e This pattern of behavior could be indicative of unhealthy relationship dynamics, where\n",
      "one partner prioritizes the other’s needs or preferences at the expense of their own. It\n",
      "could also suggest that the individual may struggle with boundaries, self-assertion, and\n",
      "personal autonomy in the relationship.\n",
      "\n",
      "|\n",
      "(i Overall Summary:\n",
      "| e Moderate Positive Relationship: There is a moderate relationship between emotional\n",
      "} distress caused by the potential loss of a relationship and engaging in people-pleasing\n",
      "| behaviors. This reinforces the idea that emotional insecurity about relationship stability\n",
      "et can lead individuals to suppress their own needs or preferences in favor of keeping the\n",
      "‘a cS Eee\n",
      "Y “ee relationship intact. 4 : come *\n",
      "ae Sees for Counseling or Therapy: In therapeutic settings, ‘it might be beneficial\n",
      "to,explore emotional dependency and boundary issues. Helping individuals address\n",
      "their fears of abandonment and teaching them to prioritize their own needs while\n",
      "Maintaining healthy relationship dynamics could be crucial in preventing unhealthy\n",
      "SN = ‘pattems of behavior.\n",
      ". =\n",
      "fc\n",
      "3\n",
      "\n"
     ]
    }
   ],
   "source": [
    "# !pip install PIL\n",
    "from PIL import Image, ImageEnhance\n",
    "import pytesseract\n",
    "\n",
    "# Set the path to the Tesseract executable\n",
    "pytesseract.pytesseract.tesseract_cmd = r\"C:\\Program Files\\Tesseract-OCR\\tesseract.exe\"\n",
    "\n",
    "# Load the JPEG image\n",
    "image_path = \"Image 36.jpeg\"  # Replace with your actual image file path\n",
    "img = Image.open(image_path)\n",
    "\n",
    "# Convert to grayscale\n",
    "img = img.convert('L')\n",
    "\n",
    "# Increase contrast\n",
    "enhancer = ImageEnhance.Contrast(img)\n",
    "img = enhancer.enhance(2)\n",
    "\n",
    "# Resize image\n",
    "base_width = 1200\n",
    "width_percent = (base_width / float(img.size[0]))\n",
    "height_size = int((float(img.size[1]) * float(width_percent)))\n",
    "img = img.resize((base_width, height_size), Image.Resampling.LANCZOS)\n",
    "\n",
    "# Perform OCR with Tesseract configuration\n",
    "custom_config = r'--oem 3 --psm 6'\n",
    "text = pytesseract.image_to_string(img, config=custom_config)\n",
    "\n",
    "# Print the extracted text\n",
    "print(text)\n"
   ]
  },
  {
   "cell_type": "code",
   "execution_count": 39,
   "metadata": {},
   "outputs": [
    {
     "name": "stdout",
     "output_type": "stream",
     "text": [
      "Data saved to output.csv\n"
     ]
    }
   ],
   "source": [
    "# Split the text into rows and columns\n",
    "rows = text.split('\\n')\n",
    "data = [row.split() for row in rows if row.strip()]  # Split by spaces and ignore empty rows\n",
    "\n",
    "# Create a DataFrame\n",
    "df = pd.DataFrame(data)\n",
    "\n",
    "# Optionally set column headers (if known)\n",
    "# df.columns = ['Column1', 'Column2', 'Column3']\n",
    "\n",
    "# Save DataFrame to CSV\n",
    "csv_path = \"output.csv\"\n",
    "df.to_csv(csv_path, index=False, header=False)  # Adjust header=True if you have headers\n",
    "\n",
    "print(f\"Data saved to {csv_path}\")\n",
    "\n",
    "\n",
    "\n",
    "\n"
   ]
  }
 ],
 "metadata": {
  "kernelspec": {
   "display_name": "Python 3",
   "language": "python",
   "name": "python3"
  },
  "language_info": {
   "codemirror_mode": {
    "name": "ipython",
    "version": 3
   },
   "file_extension": ".py",
   "mimetype": "text/x-python",
   "name": "python",
   "nbconvert_exporter": "python",
   "pygments_lexer": "ipython3",
   "version": "3.12.5"
  }
 },
 "nbformat": 4,
 "nbformat_minor": 2
}
